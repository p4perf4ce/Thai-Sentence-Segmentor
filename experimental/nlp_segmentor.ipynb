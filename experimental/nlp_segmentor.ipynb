{
 "cells": [
  {
   "cell_type": "markdown",
   "metadata": {},
   "source": [
    "# Sentence Segmentor\n",
    "\n",
    "### This is experimental sentence segmentation based on Thai-Elementary Discourse Unit research."
   ]
  },
  {
   "cell_type": "markdown",
   "metadata": {},
   "source": [
    "#### Necessary Libraries"
   ]
  },
  {
   "cell_type": "code",
   "execution_count": 3,
   "metadata": {},
   "outputs": [
    {
     "name": "stdout",
     "output_type": "stream",
     "text": [
      "Libraries Imported\n"
     ]
    }
   ],
   "source": [
    "# Import Sklearn Crfsuite\n",
    "import sklearn_crfsuite\n",
    "from sklearn_crfsuite import scorers,metrics\n",
    "from sklearn.metrics import make_scorer\n",
    "from sklearn.model_selection import cross_validate,train_test_split\n",
    "import dill\n",
    "import random\n",
    "\n",
    "# Import Tokenizer\n",
    "\n",
    "from pythainlp import word_tokenize, Tokenizer\n",
    "from pythainlp.tag import pos_tag\n",
    "from pythainlp.tag.named_entity import ThaiNameTagger\n",
    "\n",
    "ner = ThaiNameTagger()\n",
    "\n",
    "print('Libraries Imported')"
   ]
  },
  {
   "cell_type": "code",
   "execution_count": null,
   "metadata": {},
   "outputs": [],
   "source": []
  }
 ],
 "metadata": {
  "kernelspec": {
   "display_name": "Python 3",
   "language": "python",
   "name": "python3"
  },
  "language_info": {
   "codemirror_mode": {
    "name": "ipython",
    "version": 3
   },
   "file_extension": ".py",
   "mimetype": "text/x-python",
   "name": "python",
   "nbconvert_exporter": "python",
   "pygments_lexer": "ipython3",
   "version": "3.6.8"
  },
  "notify_time": "5"
 },
 "nbformat": 4,
 "nbformat_minor": 2
}
